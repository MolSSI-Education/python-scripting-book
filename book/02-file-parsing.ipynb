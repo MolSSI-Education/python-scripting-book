{
 "cells": [
  {
   "cell_type": "markdown",
   "metadata": {},
   "source": [
    "# File Parsing\n",
    "\n",
    "``````{admonition} Overview\n",
    ":class: overview\n",
    "\n",
    "Questions:\n",
    "\n",
    "* How can I use Python to read text files?\n",
    "\n",
    "* How do I sort through all the information in a text file and extract particular pieces of information?\n",
    "\n",
    "Objectives:\n",
    "\n",
    "* Open a file and read in its contents line by line.\n",
    "\n",
    "* Search for a particular string in a file.\n",
    "\n",
    "* Manipulate strings and change data types.\n",
    "\n",
    "* Print to a new file.\n",
    "\n",
    "``````\n",
    "\n",
    "## Working with files\n",
    "\n",
    "One of the most common tasks in research is analyzing data.\n",
    "Many computational chemistry programs output text files that include a large amount of information including text and data that you need to analyze. Often, you need to sort through the output file and identify particular pieces of information that are most important to you. \n",
    "In general, this is called file parsing.\n",
    "\n",
    "## The `os` library\n",
    "\n",
    "For this section, we will be working with the file `ethanol.out` in the `outfiles` directory.\n",
    "\n",
    "To work with file locations, we will use a Python library called `os`.\n",
    "In Python, we a lot of the functionalities are obtained through imported libraries.\n",
    "The `os` library has functions we can use that are related to our operating system. \n",
    "We will use it to look at the files in a folder.\n",
    "\n",
    "To use a library, we first have to import it.\n",
    "The syntax for this is\n",
    "\n",
    "```python\n",
    "import library_name\n",
    "```\n",
    "We can import the `os` library."
   ]
  },
  {
   "cell_type": "code",
   "execution_count": 1,
   "metadata": {},
   "outputs": [],
   "source": [
    "import os"
   ]
  },
  {
   "cell_type": "markdown",
   "metadata": {},
   "source": [
    "To use functions that are part of the `os` library, we do `os.function_name`. \n",
    "To see what folder your notebook is in, type:\n",
    "\n",
    "```python\n",
    "print(os.getcwd())\n",
    "```\n",
    "\n",
    "You can see what other files are in the same folder by using the `os.listdir` function.\n",
    "\n",
    "```python\n",
    "print(os.listdir())\n",
    "```\n",
    "\n",
    "Once you do this, you should see a folder called `data`. We can see what is in the data folder by using the `os.listdir` function. "
   ]
  },
  {
   "cell_type": "code",
   "execution_count": 2,
   "metadata": {},
   "outputs": [
    {
     "name": "stdout",
     "output_type": "stream",
     "text": [
      "['03_Prod.mdout', 'distance_data_headers.csv', 'outfiles', 'benzene.xyz', 'sapt.out', 'water.xyz', 'buckminsterfullerene.xyz', 'PubChemElements_all.csv', 'mdout']\n"
     ]
    }
   ],
   "source": [
    "print(os.listdir(\"data\"))"
   ]
  },
  {
   "cell_type": "markdown",
   "metadata": {},
   "source": [
    "The file we will be working with is in the `outfiles` folder and is `ethanol.out`. We will pull a piece of information (the energy) from this file.\n",
    "\n",
    "We will open the file in the next step, but first, we have to tell Python where the file is.\n",
    "We will create a variable called `ethanol_file` that contains a string that tells Python where the file is. \n",
    "This string will have folder names and file names separated by forward slashes (`/`) and is called a \"file path\". \n",
    "When deciding your file path, you can think about what you would tell someone to click in order to find the file."
   ]
  },
  {
   "cell_type": "code",
   "execution_count": 3,
   "metadata": {},
   "outputs": [],
   "source": [
    "ethanol_file = \"data/outfiles/ethanol.out\""
   ]
  },
  {
   "cell_type": "markdown",
   "metadata": {},
   "source": [
    "Notice that this doesn't check that the file actually exists, so make sure you type it correctly!\n",
    "\n",
    "## Reading a file\n",
    "\n",
    "In Python, there are many ways in python to read in information from a text file. \n",
    "The best method to use depends on the type of data and the type of analysis you are performing. \n",
    "We will use the `open` function to open the file, and another function called `readlines` to pull information out of the file.\n",
    "If you have a file with lots of different types of information, text and numbers, with different types of formatting, the most generic way to read in information is the `read` or `readlines` function. \n",
    "Before you can read in a file, you have to open the file using the file path we defined above. \n",
    "This will create a file object, or filehandle. The file we will be analyzing in this example is a PSI4 output file for a SCF/cc-pVDZ energy calculation for an ethanol molecule.\n",
    "\n",
    "In Python, when we use the `open` function, the syntax is\n",
    "\n",
    "```python\n",
    "with open(filename, open_mode) as variable:\n",
    "    # read the file\n",
    "    data = variable.readlines()\n",
    "```\n",
    "\n",
    "In the `open` function, we specify the file we want to open as the first argument to the function (`filename` above), followed by the opening mode. The `\"r\"` specifies that we want to read the file.\n",
    "\n",
    "Next, we use the `readlines` function. This pulls all of the information from the file into a `list`. \n",
    "Each element in the list is a line in the list. "
   ]
  },
  {
   "cell_type": "code",
   "execution_count": 4,
   "metadata": {},
   "outputs": [],
   "source": [
    "with open(ethanol_file, \"r\") as outfile:\n",
    "    data = outfile.readlines()"
   ]
  },
  {
   "cell_type": "markdown",
   "metadata": {},
   "source": [
    "``````{admonition} Check Your Understanding\n",
    ":class: exercise\n",
    "\n",
    "Check that your file was read in correctly by determining how many lines are in the file.\n",
    "\n",
    "````{admonition} Solution\n",
    ":class: solution dropdown\n",
    "\n",
    "Recall from the previous lesson that we learned the `len` function.\n",
    "\n",
    "The `len` function tells us the number of elements in a list. \n",
    "The output from this function will tell us the number of lines in a file because `readlines` puts each line of the file as an element in a list.\n",
    "\n",
    "```python\n",
    "print(len(data))\n",
    "```\n",
    "\n",
    "````\n",
    "\n",
    "``````\n",
    "\n",
    "## Searching for a pattern in your file\n",
    "\n",
    "The file we opened is an output file which calculates the energy (and a lot of other stuff!) for an ethanol molecule. As stated previously, the readlines() function put the file contents into a list where each element is a line of the file. You may remember from lesson 1 that a for loops can be used to execute the same code repeatedly. As we learned in the previous lesson, we can use a for loop to iterate through elements in a list.\n",
    "\n",
    "Let’s take a look at what’s in the file.\n",
    "\n",
    "```python\n",
    "for line in data:\n",
    "    print(line)\n",
    "```\n",
    "\n",
    "    print(line)\n",
    "\n",
    "This will print exactly what is in the file.\n",
    "\n",
    "If you look through the output, you will see that the critical line says “Final Energy”. We want to search through this file and find that line, and print only that line. We can do this using an if statement.\n",
    "\n",
    "Returning to our file example,\n"
   ]
  },
  {
   "cell_type": "code",
   "execution_count": 5,
   "metadata": {},
   "outputs": [
    {
     "name": "stdout",
     "output_type": "stream",
     "text": [
      "  @DF-RHF Final Energy:  -154.09130176573018\n",
      "\n"
     ]
    }
   ],
   "source": [
    "for line in data:\n",
    "    if 'Final Energy' in line:\n",
    "        energy_line = line\n",
    "        print(energy_line)\n"
   ]
  },
  {
   "cell_type": "markdown",
   "metadata": {},
   "source": [
    "Remember that `readlines()` saves each line of the file as a string, so `energy_line` is a string that contains the whole line. \n",
    "For our analysis, if we are most interested in the energy, we need to split up the line so we can save just the number as a different variable name. \n",
    "To do this, we use a new function called `split`. \n",
    "The `split` function takes a string and divides it into its components using a delimiter.\n",
    "\n",
    "The delimiter is specified as an argument to the function (put in the parenthesis ()). If you do not specify a delimiter, a space is used by default. Let’s try this out."
   ]
  },
  {
   "cell_type": "code",
   "execution_count": 6,
   "metadata": {},
   "outputs": [
    {
     "data": {
      "text/plain": [
       "['@DF-RHF', 'Final', 'Energy:', '-154.09130176573018']"
      ]
     },
     "execution_count": 6,
     "metadata": {},
     "output_type": "execute_result"
    }
   ],
   "source": [
    "energy_line.split()"
   ]
  },
  {
   "cell_type": "markdown",
   "metadata": {},
   "source": [
    "Or, we an use the colon (`:`) as the delimiter."
   ]
  },
  {
   "cell_type": "code",
   "execution_count": 7,
   "metadata": {},
   "outputs": [
    {
     "data": {
      "text/plain": [
       "['  @DF-RHF Final Energy', '  -154.09130176573018\\n']"
      ]
     },
     "execution_count": 7,
     "metadata": {},
     "output_type": "execute_result"
    }
   ],
   "source": [
    "energy_line.split(':')"
   ]
  },
  {
   "cell_type": "markdown",
   "metadata": {},
   "source": [
    "When we use ‘:’ as the delimiter, a list with two elements is returned. It is split where a colon was found.\n",
    "\n",
    "We can save the output of this function to a variable as a new list. In the example below, we take the line we found in the `for` loop and split it up into its individual words."
   ]
  },
  {
   "cell_type": "code",
   "execution_count": 8,
   "metadata": {},
   "outputs": [
    {
     "name": "stdout",
     "output_type": "stream",
     "text": [
      "['@DF-RHF', 'Final', 'Energy:', '-154.09130176573018']\n"
     ]
    }
   ],
   "source": [
    "words = energy_line.split()\n",
    "print(words)"
   ]
  },
  {
   "cell_type": "markdown",
   "metadata": {},
   "source": [
    "From this `print` statement, we now see that we have a list called `words`, where we have split `energy_line`. The energy is actually the fourth element of this list, so we can now save it as a new variable."
   ]
  },
  {
   "cell_type": "code",
   "execution_count": 9,
   "metadata": {},
   "outputs": [
    {
     "name": "stdout",
     "output_type": "stream",
     "text": [
      "-154.09130176573018\n"
     ]
    }
   ],
   "source": [
    "energy = words[3]\n",
    "print(energy)"
   ]
  },
  {
   "cell_type": "markdown",
   "metadata": {},
   "source": [
    "``````{admonition} Python negative indexing\n",
    ":class: tip\n",
    "\n",
    "We also recognize that the energy is the last element of the list. In Python, we can count backwards from the end of the list by using negative numbers. Therefore, an alternative way to assign energy is\n",
    "\n",
    "```python\n",
    "energy = words[-1]\n",
    "```\n",
    "\n",
    "``````"
   ]
  },
  {
   "cell_type": "markdown",
   "metadata": {},
   "source": [
    "If we now try to do a math operation on energy, we get an error message.\n",
    "Why do you think that is?"
   ]
  },
  {
   "cell_type": "code",
   "execution_count": 10,
   "metadata": {},
   "outputs": [
    {
     "ename": "TypeError",
     "evalue": "can only concatenate str (not \"int\") to str",
     "output_type": "error",
     "traceback": [
      "\u001b[0;31m---------------------------------------------------------------------------\u001b[0m",
      "\u001b[0;31mTypeError\u001b[0m                                 Traceback (most recent call last)",
      "Cell \u001b[0;32mIn[10], line 1\u001b[0m\n\u001b[0;32m----> 1\u001b[0m energy \u001b[39m+\u001b[39;49m \u001b[39m50\u001b[39;49m\n",
      "\u001b[0;31mTypeError\u001b[0m: can only concatenate str (not \"int\") to str"
     ]
    }
   ],
   "source": [
    "energy + 50"
   ]
  },
  {
   "cell_type": "markdown",
   "metadata": {},
   "source": [
    "Even though energy looks like a number to us, it is really a string, so we can not add an integer to it. We need to change the data type of energy to a float. This is called casting."
   ]
  },
  {
   "cell_type": "code",
   "execution_count": 11,
   "metadata": {},
   "outputs": [],
   "source": [
    "energy = float(energy)"
   ]
  },
  {
   "cell_type": "markdown",
   "metadata": {},
   "source": [
    "Now our math operation will work. If we thought ahead, we could have changed the data type when we assigned the variable originally."
   ]
  },
  {
   "cell_type": "code",
   "execution_count": 12,
   "metadata": {},
   "outputs": [],
   "source": [
    "energy = float(words[3])"
   ]
  },
  {
   "cell_type": "markdown",
   "metadata": {},
   "source": [
    "## Your Turn\n",
    "\n",
    "``````{admonition} Exercise on File Parsing\n",
    ":class: exercise\n",
    "\n",
    "The file `03_Prod.mdout` is an output file from an Amber molecular dynamics simulation.\n",
    "Read in the file, and pull out all of the total energy values (`Etot`). Save the values in a list (don't forget to cast them to floating point numbers!)\n",
    "\n",
    "\n",
    "````{admonition} Solution\n",
    ":class: exercise dropdown\n",
    "\n",
    "* Solution goes here.\n",
    "```\n",
    "\n",
    "````\n",
    "\n",
    "``````\n",
    "\n",
    "``````{admonition} Key Points\n",
    ":class: key\n",
    "\n",
    "* Python has libraries which can be imported. Libraries let us access more functions.\n",
    "\n",
    "* You can import a library using `import library_name`.\n",
    "\n",
    "* You use functions from imported libraries by doing `library_name.function_name`.\n",
    "\n",
    "* To open a file, use `with open(filename)`.\n",
    "\n",
    "* Get contents of a text file in a variable using `readlines`.\n",
    "\n",
    "* You can search through the lines in your file by using a `for` loop to go through each line and an `if` statement to look for a pattern.\n",
    "\n",
    "``````"
   ]
  },
  {
   "cell_type": "markdown",
   "metadata": {},
   "source": []
  }
 ],
 "metadata": {
  "kernelspec": {
   "display_name": "Python 3 (ipykernel)",
   "language": "python",
   "name": "python3"
  },
  "language_info": {
   "codemirror_mode": {
    "name": "ipython",
    "version": 3
   },
   "file_extension": ".py",
   "mimetype": "text/x-python",
   "name": "python",
   "nbconvert_exporter": "python",
   "pygments_lexer": "ipython3",
   "version": "3.11.3"
  },
  "vscode": {
   "interpreter": {
    "hash": "16d4a7bb199d969b1271ebe46f77414b0d9cd01b3c3983c2b2742fc6cd4503d3"
   }
  }
 },
 "nbformat": 4,
 "nbformat_minor": 4
}
