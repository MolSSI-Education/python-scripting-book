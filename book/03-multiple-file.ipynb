{
 "cells": [
  {
   "cell_type": "markdown",
   "metadata": {},
   "source": [
    "# Processing Multiple Files and Writing Files\n",
    "\n",
    "``````{admonition} Overview\n",
    ":class: overview\n",
    "\n",
    "Questions:\n",
    "\n",
    "* How do I analyze multiple files at once?\n",
    "\n",
    "Objectives:\n",
    "\n",
    "* Process multiple files using a `for` loop.\n",
    "\n",
    "* Print output to a new text file.\n",
    "\n",
    "``````\n",
    "\n",
    "In our previous lesson, we parsed values from output files. \n",
    "While you might have seen the utility of doing such a thing, you might have also wondered why we didn’t just search the file and cut and paste the values we wanted into a spreadsheet. \n",
    "If you only have 1 or 2 files, this might be a very reasonable thing to do. \n",
    "But what if you had 100 files to analyze? \n",
    "What if you had 1000? \n",
    "In such a case the cutting and pasting method would be very tedious and time consuming.\n",
    "\n",
    "One of the real powers of writing a program to analyze your data is that you can just as easily analyze 100 files as 1 file. In this example, we are going to parse the output files for a whole series of aliphatic alcohol compounds and parse the energy value for each one. The output files are all saved in a folder called outfiles that you should have downloaded in the setup for this lesson. Make sure the folder is in the same directory as the directory where you are writing and executing your code.\n",
    "\n",
    "In this lesson, we will be using the `glob` library, which will help us read in multiple files from our computer. "
   ]
  },
  {
   "cell_type": "code",
   "execution_count": 1,
   "metadata": {},
   "outputs": [],
   "source": [
    "import glob"
   ]
  },
  {
   "cell_type": "markdown",
   "metadata": {},
   "source": [
    "We will make a file path which points to where our `.out` files are.\n",
    "For this file path, we will use `*` to specify any word (instead of something like ethanol).\n",
    "When we use this with the `glob` function in the `glob` library, we will get all of the files that matches that pattern"
   ]
  },
  {
   "cell_type": "code",
   "execution_count": 2,
   "metadata": {},
   "outputs": [
    {
     "name": "stdout",
     "output_type": "stream",
     "text": [
      "data/outfiles/*.out\n"
     ]
    }
   ],
   "source": [
    "file_location = \"data/outfiles/*.out\"\n",
    "print(file_location)"
   ]
  },
  {
   "cell_type": "markdown",
   "metadata": {},
   "source": [
    "This specifies that we want to look for all the files in a directory called data/outfiles that end in “.out”. The * is the wildcard character which matches any character.\n",
    "\n",
    "Next we are going to use a function called glob in the library called glob. It is a little confusing since the function and the library have the same name, but we will see other examples where this is not the case later. The output of the function glob is a list of all the filenames that fit the pattern specified in the input. The input is the file location."
   ]
  },
  {
   "cell_type": "code",
   "execution_count": 3,
   "metadata": {},
   "outputs": [
    {
     "name": "stdout",
     "output_type": "stream",
     "text": [
      "['data/outfiles/butanol.out', 'data/outfiles/methanol.out', 'data/outfiles/ethanol.out', 'data/outfiles/octanol.out', 'data/outfiles/heptanol.out', 'data/outfiles/nonanol.out', 'data/outfiles/propanol.out', 'data/outfiles/hexanol.out', 'data/outfiles/decanol.out', 'data/outfiles/pentanol.out']\n"
     ]
    }
   ],
   "source": [
    "filenames = glob.glob(file_location)\n",
    "\n",
    "print(filenames)"
   ]
  },
  {
   "cell_type": "markdown",
   "metadata": {},
   "source": [
    "This will give us a list of all the files which end in `*.out` in the outfiles directory. Now if we want to parse every file we just read in, we will use a for loop to go through each file."
   ]
  },
  {
   "cell_type": "code",
   "execution_count": 4,
   "metadata": {},
   "outputs": [
    {
     "name": "stdout",
     "output_type": "stream",
     "text": [
      "-232.1655798347283\n",
      "-115.04800861868374\n",
      "-154.09130176573018\n",
      "-388.3110864554743\n",
      "-349.27397687072676\n",
      "-427.3465180082815\n",
      "-193.12836249728798\n",
      "-310.2385332251633\n",
      "-466.3836241400086\n",
      "-271.20138119895074\n"
     ]
    }
   ],
   "source": [
    "for f in filenames:\n",
    "    outfile = open(f,'r')\n",
    "    data = outfile.readlines()\n",
    "    outfile.close()\n",
    "    for line in data:\n",
    "        if 'Final Energy' in line:\n",
    "            energy_line = line\n",
    "            words = energy_line.split()\n",
    "            energy = float(words[3])\n",
    "            print(energy)"
   ]
  },
  {
   "cell_type": "markdown",
   "metadata": {},
   "source": [
    "Notice that in this code we actually used two for loops, one nested inside the other. The outer for loop counts over the filenames we read in earlier. The inner for loop counts over the line in each file, just as we did in our previous file parsing lesson.\n",
    "\n",
    "The output our code currently generates is not that useful. It doesn’t show us which file each energy value came from.\n",
    "\n",
    "We want to print the name of the molecule with the energy. We can use `os.path.basename`, which is another function in `os` to get just the name of the file.\n",
    "\n"
   ]
  },
  {
   "cell_type": "code",
   "execution_count": 5,
   "metadata": {},
   "outputs": [
    {
     "name": "stdout",
     "output_type": "stream",
     "text": [
      "data/outfiles/butanol.out\n",
      "butanol.out\n"
     ]
    }
   ],
   "source": [
    "import os\n",
    "\n",
    "first_file = filenames[0]\n",
    "print(first_file)\n",
    "\n",
    "file_name = os.path.basename(first_file)\n",
    "print(file_name)"
   ]
  },
  {
   "cell_type": "markdown",
   "metadata": {},
   "source": [
    "```````{admonition} Exercise\n",
    ":class: exercise\n",
    "\n",
    "How would you extract the molecule name from the example above?\n",
    "\n",
    "````{admonition} Solution\n",
    ":class: solution dropdown\n",
    "\n",
    "You can use the `split` function introduced in the last lesson, and split at the `.` charactr.\n",
    "\n",
    "```python\n",
    "split_filename = file_name.split('.')\n",
    "molecule_name = split_filename[0]\n",
    "print(molecule_name)\n",
    "```\n",
    "\n",
    "````"
   ]
  },
  {
   "cell_type": "markdown",
   "metadata": {},
   "source": [
    "Using the solution from the previous exercise, we can modify our loop so that it prints the file name along with each energy value."
   ]
  },
  {
   "cell_type": "code",
   "execution_count": 6,
   "metadata": {},
   "outputs": [
    {
     "name": "stdout",
     "output_type": "stream",
     "text": [
      "butanol -232.1655798347283\n",
      "methanol -115.04800861868374\n",
      "ethanol -154.09130176573018\n",
      "octanol -388.3110864554743\n",
      "heptanol -349.27397687072676\n",
      "nonanol -427.3465180082815\n",
      "propanol -193.12836249728798\n",
      "hexanol -310.2385332251633\n",
      "decanol -466.3836241400086\n",
      "pentanol -271.20138119895074\n"
     ]
    }
   ],
   "source": [
    "for f in filenames:\n",
    "    # Get the molecule name\n",
    "    file_name = os.path.basename(f)\n",
    "    split_filename = file_name.split('.')\n",
    "    molecule_name = split_filename[0]\n",
    "\n",
    "    # Read the data\n",
    "    with open(f) as outfile:\n",
    "        data = outfile.readlines()\n",
    "\n",
    "    # Loop through the data\n",
    "    for line in data:\n",
    "        if 'Final Energy' in line:\n",
    "            energy_line = line\n",
    "            words = energy_line.split()\n",
    "            energy = float(words[3])\n",
    "            print(molecule_name, energy)"
   ]
  },
  {
   "cell_type": "markdown",
   "metadata": {},
   "source": [
    "## Printing to a file\n",
    "\n",
    "Finally, it might be useful to print our results in a new file, such that we could share our results with colleagues or or e-mail them to our advisor. Much like when we read in a file, the first step to writing output to a file is opening that file for writing. Opening a file for writing is similar to opening it for reading, except that you use `w` instead of `r` in the `open` function.\n",
    "\n",
    "You can also use `a` for append to an existing file or `a+`. The `a` mode stands for `append`, and when you use this, lines will be added to the end of the file. If you use `w`, all existing file contents are overwritten if the file already exists.\n",
    "\n",
    "Python can only write strings to files. Our current print statement is not a string; it prints two python variables. To convert what we have now to a string, you place a capital F in front of the line you want to print and enclose it in single quotes. Each python variable is placed in braces. Then you can either print the line (as we have done before) or you can use the filehandle.write() command to print it to a file.\n",
    "\n",
    "To make the printing neater, we will separate the file name from the energy using a tab. To insert a tab, we use the special character \\t."
   ]
  },
  {
   "cell_type": "code",
   "execution_count": 7,
   "metadata": {},
   "outputs": [],
   "source": [
    "with open('energies.txt','w+') as datafile:\n",
    "    for f in filenames:\n",
    "        # Get the molecule name\n",
    "        file_name = os.path.basename(f)\n",
    "        split_filename = file_name.split('.')\n",
    "        molecule_name = split_filename[0]\n",
    "\n",
    "        # Read the data\n",
    "        with open(f) as outfile:\n",
    "            data = outfile.readlines()\n",
    "\n",
    "        # Loop through the data\n",
    "        for line in data:\n",
    "            if 'Final Energy' in line:\n",
    "                energy_line = line\n",
    "                words = energy_line.split()\n",
    "                energy = float(words[3])\n",
    "                datafile.write(F'{molecule_name} \\t {energy} \\n')\n"
   ]
  },
  {
   "cell_type": "markdown",
   "metadata": {},
   "source": [
    "After you run this command, look in the directory where you ran your code and find the “energies.txt” file. Open it in a text editor and look at the file.\n",
    "\n",
    "In the file writing line, notice the \\n at the end of the line. This is the newline character. Without it, the text in our file would just be all smushed together on one line."
   ]
  },
  {
   "cell_type": "markdown",
   "metadata": {},
   "source": [
    "## Your Turn \n",
    "\n",
    "``````{admonition} Exercise\n",
    ":class: exercise\n",
    "\n",
    "Extend your project from the previous lesson to analyze all of the `mdout` files in the folder `data/mdout`. Write a new file for each analyzed file called `filename_Etot.txt`.\n",
    "\n",
    "````{admonition} Soluiton\n",
    ":class: solution dropdown\n",
    "\n",
    "* Solution here\n",
    "````\n",
    "\n",
    "``````\n"
   ]
  },
  {
   "cell_type": "markdown",
   "metadata": {},
   "source": [
    "``````{admonition} Key Points\n",
    ":class: key\n",
    "\n",
    "* Use the `glob` function in the `glob` library to get files that have similar names.\n",
    "\n",
    "* You can nest `for` loops inside of each other (also called double for loop)\n",
    "\n",
    "``````"
   ]
  },
  {
   "cell_type": "markdown",
   "metadata": {},
   "source": []
  }
 ],
 "metadata": {
  "kernelspec": {
   "display_name": "Python 3 (ipykernel)",
   "language": "python",
   "name": "python3"
  },
  "language_info": {
   "codemirror_mode": {
    "name": "ipython",
    "version": 3
   },
   "file_extension": ".py",
   "mimetype": "text/x-python",
   "name": "python",
   "nbconvert_exporter": "python",
   "pygments_lexer": "ipython3",
   "version": "3.11.3"
  },
  "vscode": {
   "interpreter": {
    "hash": "16d4a7bb199d969b1271ebe46f77414b0d9cd01b3c3983c2b2742fc6cd4503d3"
   }
  }
 },
 "nbformat": 4,
 "nbformat_minor": 4
}
