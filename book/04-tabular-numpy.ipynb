{
 "cells": [
  {
   "cell_type": "markdown",
   "metadata": {},
   "source": [
    "# Working with NumPy Arrays\n",
    "\n",
    "```{admonition} Overview\n",
    ":class: overview\n",
    "\n",
    "Questions:\n",
    "\n",
    "* How do I use NumPy arrays?\n",
    "\n",
    "Objectives:\n",
    "\n",
    "* Use functions in `numpy` to read in tabular data from comma separated value files.\n",
    "\n",
    "* Access information in a numpy array using column names and row numbers.\n",
    "\n",
    "* Learn about array axes.\n",
    "\n",
    "```\n",
    "\n",
    "NumPy, short for Numerical Python, is a powerful library that provides support for working with large, multi-dimensional arrays and matrices, along with a collection of mathematical functions to operate on these data structures. It is widely used in scientific computing, data analysis, and machine learning for tasks that require numerical computations on large data sets.\n",
    "\n",
    "In this module we will focus on reading in and analyzing numerical data, visualizing the data, and working with arrays.\n",
    "\n",
    "## Reading text from files\n",
    "\n",
    "As we already discussed, there are many ways to read in data from files in Python. \n",
    "In our last module, we used the readlines() function to read in a complex output file. \n",
    "In theory, you could always use the readlines() function, and then use the data parsing tools we learned in the previous module to format the data as you needed. \n",
    "But sometimes there are other ways that make more sense, particularly if the data is formatted in a table. \n",
    "\n",
    "A common table format is the `CSV` file or `comma separated values`.\n",
    "This is exactly what it sounds like. \n",
    "Data is presented in rows, with each value separated by a comma. \n",
    "If you have data in a spreadsheet program that you need to import into a python code, you can save the data as a csvfile to read it in.\n",
    "\n",
    "In this lesson, we are going to read in the data using a library called NumPy.\n",
    "NumPy has a data type called an `array`.\n",
    "\n",
    "In this example, we have a CSV file that contains data from analysis of a molecular dynamics trajectory. \n",
    "We have a 20 ns simulation that used a 2 fs timestep. \n",
    "The data was saved to the trajectory file every 1000 steps, so our file has 10,000 timesteps. \n",
    "At each timestep, we are interested in the distance between particular atoms. \n",
    "These trajectories were generated with the AMBER molecular dynamics program and the distances were measured with the Python program MDAnalysis. \n",
    "The table of atomic distances was saved as a CSV file called “distance_data_headers.csv”. \n",
    "This file was downloaded as part of your lesson materials. \n",
    "Open the file in a text editor and study it to determine its structure.\n",
    "\n",
    "In analyzing tabular data, we often need to perform the same types of calculations (averaging, calculating the minimum or maximum of the data set), so we are once again going to use a Python library, this time a library that contains lots of functions to work with numerical data.\n",
    "\n",
    "The first thing we will do is import the NumPy library. When NumPy is imported, it is often shortened to `np`"
   ]
  },
  {
   "cell_type": "code",
   "execution_count": null,
   "metadata": {},
   "outputs": [],
   "source": [
    "import numpy as np"
   ]
  },
  {
   "cell_type": "markdown",
   "metadata": {},
   "source": [
    "The function we will use is called `np.genfromtxt`. \n",
    "NumPy has a [page on reading data from files](https://numpy.org/doc/stable/user/how-to-io.html) in its documentation.\n",
    "In the Jupyter environment, you can find out more about this function by doing\n",
    "\n",
    "```python\n",
    "help(np.genfromtxt)\n",
    "```\n",
    "\n",
    "\n",
    "```{admonition} Library Documentation\n",
    ":class: tip\n",
    "\n",
    "Most popular Python libraries have very good online documentation. \n",
    "You can find the pandas documentation by googling \"numpy docs\".\n",
    "You will be able to find the same help message you get for `genfromtxt` as well as tutorials and other types of documentation.\n",
    "\n",
    "1. [NumPy Documentation](https://numpy.org/doc/stable/index.html)\n",
    "2. [Reading and writing files using NumPy](https://numpy.org/devdocs/user/how-to-io.html)\n",
    "3. [`genfromtxt` documentation](https://numpy.org/doc/stable/reference/generated/numpy.genfromtxt.html)\n",
    "```\n",
    "\n",
    "The help output shows us all the options we can use with this function. \n",
    "The first input `fname` is the filename we are reading in. \n",
    "We must put a values for this option because it does not have a default value. \n",
    "All the other options have a default value that is shown after the `=` sign.\n",
    "We only need to specify these options if we don’t want to use the default value. \n",
    "For example, in our file, all the values were not numbers so we don’t want to use the datatype float, we want to use something else. If you have mixed datatypes, like we do here, we want to use 'unicode'. In our file, our values are separated by commas; we indicate that with `delimiter=','`.\n",
    "\n",
    "```{admonition} Should you skip the headers?\n",
    ":class: tip\n",
    "\n",
    "The clever student may notice the `skip_header` option, where you can specify a number of lines to skip at the beginning of the file. If we did this, then our values would all be numbers and we could use dtype=’float’, which is the default. In this example, we are not going to do that because we might want to use the headers later to label things, but keep this option in mind because you might want to use it in a later project.\n",
    "\n",
    "```\n",
    "\n",
    "To get started, we will make a variable for our file path, then use that variable in the `np.genfromtxt` function."
   ]
  },
  {
   "cell_type": "code",
   "execution_count": null,
   "metadata": {},
   "outputs": [],
   "source": [
    "distance_file = \"data/distance_data_headers.csv\"\n",
    "\n",
    "distances = np.genfromtxt(distance_file, delimiter=\",\", dtype=\"unicode\")"
   ]
  },
  {
   "cell_type": "markdown",
   "metadata": {},
   "source": [
    "The variable called `distances` is a `NumPy Array`. "
   ]
  },
  {
   "cell_type": "code",
   "execution_count": null,
   "metadata": {},
   "outputs": [],
   "source": [
    "distances"
   ]
  },
  {
   "cell_type": "markdown",
   "metadata": {},
   "source": [
    "The output of this function resembles a list of lists; that is, each row is a entry in our list, but each row is itself a list of values. We can see that the first row is our column headings and all the other rows contain numerical data.\n",
    "\n",
    "If we were to read this in with the readlines() function, we would have to split each line of the file, use the append function to make a new list for each row, and THEN put all those lists together into a list of lists. Using the appropriate numpy function makes our life much easier."
   ]
  },
  {
   "cell_type": "markdown",
   "metadata": {},
   "source": [
    "## Features of NumPy Arrays\n",
    "\n",
    "The variable distances *resembles* a lists of lists, but it is actually a data type called a NumPy array.\n",
    "In contrast to a list, a NumPy array can have multiple dimensions.\n",
    "In our case, it has rows and colums, or it has two dimensions.\n",
    "We can see this by using the `np.ndim` function."
   ]
  },
  {
   "cell_type": "code",
   "execution_count": null,
   "metadata": {},
   "outputs": [],
   "source": [
    "np.ndim(distances)"
   ]
  },
  {
   "cell_type": "markdown",
   "metadata": {},
   "source": [
    "We can also see the number of rows and columns in our array by using the `np.shape` function"
   ]
  },
  {
   "cell_type": "code",
   "execution_count": null,
   "metadata": {},
   "outputs": [],
   "source": [
    "np.shape(distances)"
   ]
  },
  {
   "cell_type": "markdown",
   "metadata": {},
   "source": [
    "## Manipulating Data in the Array\n",
    "\n",
    "Even now, we can see that our first line of data is headings for our columns, and will need to be stored as strings, whereas all the rest of the data is numerical and will need to be stored as floats. Let’s take a slice of the data that is just the headers."
   ]
  },
  {
   "cell_type": "code",
   "execution_count": null,
   "metadata": {},
   "outputs": [],
   "source": [
    "headers = distances[0]\n",
    "print(headers)"
   ]
  },
  {
   "cell_type": "markdown",
   "metadata": {},
   "source": [
    "We can use the same slicing syntax we learned in earlier lessons\n",
    "to get the numerical values in the array."
   ]
  },
  {
   "cell_type": "code",
   "execution_count": null,
   "metadata": {},
   "outputs": [],
   "source": [
    "data = distances[1:]\n",
    "print(data)"
   ]
  },
  {
   "cell_type": "markdown",
   "metadata": {},
   "source": [
    "Even though we now have a NumPy array that is just the numbers, the numbers are all still strings. \n",
    "We know this because (1) we read them all in as unicode and (2) if we look at the output of the print statement, we can see that each number is enclosed in single quotes, indicating that it is a string. We need to recast these values as floats. \n",
    "The numpy library has a built-in function to accomplish this. In this case, keeping a variable with all the same information as strings is not useful to us, so this is a case where we are going to overwrite our variable data."
   ]
  },
  {
   "cell_type": "code",
   "execution_count": null,
   "metadata": {},
   "outputs": [],
   "source": [
    "data = data.astype(float)\n",
    "print(data)"
   ]
  },
  {
   "cell_type": "markdown",
   "metadata": {},
   "source": [
    "We already learned how to address a particular element of a list and how to take a slice of a list to create a new list. Now that we have an array, we now need two indices to address a particular element of the array. The notation to address an element of the array is always\n",
    "\n",
    "```python\n",
    "array_name[row_index, column_index]\n",
    "```"
   ]
  },
  {
   "cell_type": "code",
   "execution_count": null,
   "metadata": {},
   "outputs": [],
   "source": [
    "# This will get the first row and the second column.\n",
    "data[0, 1]"
   ]
  },
  {
   "cell_type": "markdown",
   "metadata": {},
   "source": [
    "``````{admonition} Check Your Understanding\n",
    ":class: exercise\n",
    "\n",
    "What would be the output of these lines of code?\n",
    "\n",
    "```python\n",
    "\n",
    "print(data[0,1])\n",
    "print(data[1,0])\n",
    "\n",
    "```\n",
    "\n",
    "````{admonition} Solution\n",
    ":class: solution dropdown\n",
    "\n",
    "```output\n",
    "8.9542\n",
    "2.0\n",
    "```\n",
    "\n",
    "```\n",
    "````\n",
    "``````"
   ]
  },
  {
   "cell_type": "markdown",
   "metadata": {},
   "source": [
    "### Slicing\n",
    "\n",
    "Similar to lists, you can also slice numpy arrrays.\n",
    "This allows you to get a range of rows or columns. \n",
    "To take a slice, you use a colon:\n",
    "\n",
    "```python\n",
    "\n",
    "array_name[row_start:row_end, column_start, column_end]\n",
    "```"
   ]
  },
  {
   "cell_type": "code",
   "execution_count": null,
   "metadata": {},
   "outputs": [],
   "source": [
    "small_data = data[0:10,0:3]\n",
    "print(small_data)"
   ]
  },
  {
   "cell_type": "markdown",
   "metadata": {},
   "source": [
    "Remember that counting starts at zero, so `0:10` means start at row zero and include all rows, up to but not including 10. \n",
    "Just as with the one-dimensional list slices, if you don’t include a number before the `:` the slice automatically starts with index 0. If you don’t include a number after the : the slice goes to the end of the array. Therefore, if you don’t include either, a `:` means every row or every column.\n",
    "\n",
    "``````{admonition} Check Your Understanding\n",
    ":class: exercise\n",
    "\n",
    "What would be the output of these lines of code?\n",
    "\n",
    "```python\n",
    "\n",
    "print(small_data[5,:])\n",
    "print(small_data[:,1:])\n",
    "\n",
    "```\n",
    "\n",
    "````{admonition} Solution\n",
    ":class: solution dropdown\n",
    "\n",
    "The first print statement selects one particular row and every column.\n",
    "\n",
    "```output\n",
    "[6.     9.0462 6.2553]\n",
    "```\n",
    "\n",
    "The second print statement selects every row, and all the columns except the first one.\n",
    "\n",
    "```output\n",
    "[[8.9542 5.8024]\n",
    " [8.6181 6.0942]\n",
    " [9.0066 6.0637]\n",
    " [9.2002 6.0227]\n",
    " [9.1294 5.9365]\n",
    " [9.0462 6.2553]\n",
    " [8.8657 5.9186]\n",
    " [9.3256 6.2351]\n",
    " [9.4184 6.1993]\n",
    " [9.06   6.0478]]\n",
    "```\n",
    "\n",
    "```\n",
    "````\n",
    "``````"
   ]
  },
  {
   "cell_type": "markdown",
   "metadata": {},
   "source": [
    "## Analyzing Tabular Data\n",
    "\n",
    "The numpy library has numerous built-in functions. For example, to calculate the average (mean) of a data set, we could use the `np.mean` function"
   ]
  },
  {
   "cell_type": "code",
   "execution_count": null,
   "metadata": {},
   "outputs": [],
   "source": [
    "np.mean(data)"
   ]
  },
  {
   "cell_type": "markdown",
   "metadata": {},
   "source": [
    "This gives us the mean of all the numbers in the array.\n",
    "Using what we have learned so far, we could use array slicing to\n",
    "determine the average of the first column of data."
   ]
  },
  {
   "cell_type": "code",
   "execution_count": null,
   "metadata": {},
   "outputs": [],
   "source": [
    "thr4_atp = data[:,1]  # Every row, just the THR4_ATP column\n",
    "avg_thr4_atp = np.mean(thr4_atp)\n",
    "print(avg_thr4_atp)"
   ]
  },
  {
   "cell_type": "markdown",
   "metadata": {},
   "source": [
    "This is correct, but now we would like to calculate the average of every column. This seems like a job `for` a for loop, but unlike last time, we don’t want to count over a particular list and do something for every item, we want to do something a particular number of times. Basically, we want to take that 1 and let it be every number, up to the number of columns. This is a task for the range() function. The general syntax is\n",
    "\n",
    "```python\n",
    "range(start, end)\n",
    "```\n",
    "\n",
    "In our example, the \"end\" value needs to be the number of columns of data.\n",
    "\n",
    "\n",
    "\n"
   ]
  },
  {
   "cell_type": "code",
   "execution_count": null,
   "metadata": {},
   "outputs": [],
   "source": [
    "num_columns = len(headers)\n",
    "print(num_columns)"
   ]
  },
  {
   "cell_type": "markdown",
   "metadata": {},
   "source": [
    "Now that we know the number of columns, we can use the range() function to set up our for loop."
   ]
  },
  {
   "cell_type": "code",
   "execution_count": null,
   "metadata": {},
   "outputs": [],
   "source": [
    "for i in range(1,num_columns):\n",
    "    column = data[:,i]\n",
    "    avg_col = np.mean(column)\n",
    "    print(F'{headers[i]} : {avg_col}')"
   ]
  },
  {
   "cell_type": "markdown",
   "metadata": {},
   "source": [
    "## NumPy Array Axes and Operations\n",
    "\n",
    "Although the `for` loop we just used worked, there is an easier way to perform operations on NumPy arrays\n",
    "when you want to analyze rows or columns.\n",
    "\n",
    "NumPy arrays have axes for each dimension. \n",
    "For our array, we saw that it has two dimensions using `np.ndim`\n",
    "Axis 0 goes down the rows, while axis 1 goes across the columns.\n",
    "\n",
    "```{image} images/numpy_array.svg\n",
    ":align: center\n",
    "```\n",
    "\n",
    "If we wanted to get the mean of every row, we could have added an `axis`\n",
    "argument to our `mean` function.\n",
    "To have the mean function applied to every column of data, we would use the `axis=0` argument.\n"
   ]
  },
  {
   "cell_type": "code",
   "execution_count": null,
   "metadata": {},
   "outputs": [],
   "source": [
    "means = np.mean(data, axis=0)\n",
    "print(means)"
   ]
  },
  {
   "cell_type": "markdown",
   "metadata": {},
   "source": [
    "If you compare the values calculated using this method and our `for`loop method,\n",
    "you will see that they are the same values.\n",
    "\n",
    "Using the `axis` keyword is usually the preferred method of analyzing NumPy arrays.\n",
    "If you have a lot of data, using the `axis` argument will be noticeably faster than using a `for` loop with an array.\n",
    "NumPy arrays have lots of other useful features that you can read about in [NumPy's beginner's guide](https://numpy.org/doc/stable/user/absolute_beginners.html).\n",
    "\n",
    "``````{admonition} Check Your Understanding\n",
    ":class: exercise\n",
    "\n",
    "Use the function `np.std` and the appropriate axis argument to find the standard deviation of each column. How could you exclude the frame number column in your calculation?\n",
    "\n",
    "````{admonition} Solution\n",
    ":class: solution dropdown\n",
    "\n",
    "To find the standard deviation of each column, you can do \n",
    "\n",
    "```python\n",
    "np.std(data, axis=0)\n",
    "```\n",
    "\n",
    "If you wanted to exclude the frame column, you could slide your array when performing the\n",
    "standard deviation calculation.\n",
    "\n",
    "```python\n",
    "np.std(data[:, 1:], axis=0)\n",
    "````\n",
    "``````\n",
    "\n",
    "## Element-Wise Operations\n",
    "\n",
    "A NumPy array also allows element-wise operations, or easily adding two arrays.\n",
    "For example, if we wanted to add a number to every element of our array, we could easily do that."
   ]
  },
  {
   "cell_type": "code",
   "execution_count": null,
   "metadata": {},
   "outputs": [],
   "source": [
    "data + 2 # I am adding the number two to every array element. Notice that I am not saving this in a variable, so data is unchanged."
   ]
  },
  {
   "cell_type": "markdown",
   "metadata": {},
   "source": [
    "This is in contrast to the behavior of a list."
   ]
  },
  {
   "cell_type": "code",
   "execution_count": null,
   "metadata": {},
   "outputs": [],
   "source": [
    "# create a lists of lists\n",
    "my_list = [[1, 2, 3], [4, 5, 6]]\n",
    "print(my_list)"
   ]
  },
  {
   "cell_type": "code",
   "execution_count": null,
   "metadata": {},
   "outputs": [],
   "source": [
    "my_list + 2"
   ]
  },
  {
   "cell_type": "markdown",
   "metadata": {},
   "source": [
    "Fortunately, you can make any list into an array using `np.array`"
   ]
  },
  {
   "cell_type": "code",
   "execution_count": null,
   "metadata": {},
   "outputs": [],
   "source": [
    "my_array = np.array(my_list)\n",
    "print(f\"The data type of my_array is is {type(my_array)}\")\n",
    "my_array + 2"
   ]
  },
  {
   "cell_type": "markdown",
   "metadata": {},
   "source": [
    "NumPy arrays are powerful data structures that you will see often if you regularly program in Python for data analysis.\n",
    "We strongly encourage you to read the [NumPy's beginner's guide](https://numpy.org/doc/stable/user/absolute_beginners.html) \n",
    "to learn more about NumPy arrays!\n",
    "\n",
    "``````{admonition} Key Points\n",
    ":class: key\n",
    "\n",
    "* You can use NumPy to read data from files.\n",
    "\n",
    "* NumPy arrays are multi-dimensional.\n",
    "\n",
    "* NumPy has many functions for numerical analysis.\n",
    "\n",
    "* You can use `range` in a `for` loop to perform something a certain number of times.\n",
    "\n",
    "* `for` loops can sometimes be avoided in NumPy by using special array features like the `axis` argument in analysis functions.\n",
    "\n",
    "``````"
   ]
  },
  {
   "cell_type": "code",
   "execution_count": null,
   "metadata": {},
   "outputs": [],
   "source": []
  }
 ],
 "metadata": {
  "kernelspec": {
   "display_name": "Python 3 (ipykernel)",
   "language": "python",
   "name": "python3"
  },
  "language_info": {
   "codemirror_mode": {
    "name": "ipython",
    "version": 3
   },
   "file_extension": ".py",
   "mimetype": "text/x-python",
   "name": "python",
   "nbconvert_exporter": "python",
   "pygments_lexer": "ipython3",
   "version": "3.11.3"
  },
  "vscode": {
   "interpreter": {
    "hash": "16d4a7bb199d969b1271ebe46f77414b0d9cd01b3c3983c2b2742fc6cd4503d3"
   }
  }
 },
 "nbformat": 4,
 "nbformat_minor": 4
}
