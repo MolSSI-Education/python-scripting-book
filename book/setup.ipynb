{
 "cells": [
  {
   "cell_type": "markdown",
   "id": "collective-theorem",
   "metadata": {
    "tags": []
   },
   "source": [
    "Set Up\n",
    "=====\n",
    "\n",
    "In this workshop, we will introduce the Python programming language.\n",
    "[Python](https://python.org/) is a popular language for scientific computing, and great for general-purpose programming as well. \n",
    "You will need to access the JupyterLab or Jupyter notebook. \n",
    "You may either install Python and the Jupyter notebook on your computer, or access a Python environment in your browser. \n",
    "If you are new to Python programming, we recommend trying it out in your browser on a platform such as chemcompute for this workshop.\n",
    "\n",
    "\n",
    "Accessing Jupyter in your browser (academic email addresses only)\n",
    "-----------------------------------------------------------------------\n",
    "You can access the Jupyter notebook using a browser through the website [ChemCompute](https://chemcompute.org/). Follow the instructions below to make a ChemCompute account and download the required data. Note that ChemCompute is available to academic users only.\n",
    "To create a ChemCompute Account  - Navigate to https://chemcompute.org/ and create an account using an email address associated with your university. After creating your account, you will receive a verification email at the email address you provide during registration. \n",
    "Be sure to verify your email address. Next, follow the chemcompute instructions to obtain files you need for the workshop. \n",
    "\n",
    "### Obtain Files for Lesson on ChemCompute\n",
    "After you have created your account and verified your email, make sure you are logged in. Then, select \"Jupyter\" in the top menu of chemcompute. Next, click \"Clone a github repo to your notebook\" \n",
    "\n",
    "```{image} images/chemcompute1.png\n",
    ":align: center\n",
    ":width: 100%\n",
    "```\n",
    "\n",
    "On the next page enter `https://github.com/MolSSI-Education/python-data-and-scripting` and click \"Pull Repo\"\n",
    "\n",
    "```{image} images/chemcompute2.png\n",
    ":align: center\n",
    ":width: 100%\n",
    "```\n",
    "\n",
    "A page with some options will come up. In the second drop down box, choose \"JupyterLab\" and click the orange button to start your Jupyter environment.\n",
    "\n",
    "Accessing a locally installed copy of Jupyter\n",
    "------------------------------------------------------------------------------------\n",
    "If you plan to use Python and Juptyer notebook locally, we recommend downloading and installing [Anaconda](https://www.anaconda.com/download). Anaconda is a Python distribution that include the Jupyter notebook and many Python packages relevant for data science.\n",
    "\n",
    "Download and unzip {download}`the workshop material <../data/python-data-and-scripting.zip>` onto a place you can easily find them on your computer.\n",
    "\n"
   ]
  }
 ],
 "metadata": {
  "kernelspec": {
   "display_name": "Python 3 (ipykernel)",
   "language": "python",
   "name": "python3"
  },
  "language_info": {
   "codemirror_mode": {
    "name": "ipython",
    "version": 3
   },
   "file_extension": ".py",
   "mimetype": "text/x-python",
   "name": "python",
   "nbconvert_exporter": "python",
   "pygments_lexer": "ipython3",
   "version": "3.11.3"
  }
 },
 "nbformat": 4,
 "nbformat_minor": 5
}
